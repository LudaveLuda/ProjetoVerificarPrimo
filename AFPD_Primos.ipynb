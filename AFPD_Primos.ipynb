{
  "nbformat": 4,
  "nbformat_minor": 0,
  "metadata": {
    "colab": {
      "provenance": []
    },
    "kernelspec": {
      "name": "python3",
      "display_name": "Python 3"
    },
    "language_info": {
      "name": "python"
    },
    "accelerator": "GPU",
    "gpuClass": "standard"
  },
  "cells": [
    {
      "cell_type": "markdown",
      "source": [
        "#**Integrantes**\n",
        "\n",
        "  Lucca Costa Lima D'Avila - 171903\n",
        "\n",
        "  Henrique Casarini Firmino - 180185\n",
        "\n",
        "  Carlos Eduardo Ferreira da Silva - 223748\n"
      ],
      "metadata": {
        "id": "wRGqF3O1RumG"
      }
    },
    {
      "cell_type": "markdown",
      "source": [
        "# Neste trabalho, utilizaremos um algoritmo que verifica a quantidade de numeros primos em um intervalo de 2 a k.\n",
        "# Nele, aplicaremos dois dos conjuntos propostos (bcast/reduce & send/recv), bem como o timeit para verificar o tempo de execução de cada loop e com isso analisar os resultados obtidos em cada um dos conjuntos.\n",
        "# O código está organizado em apenas workers."
      ],
      "metadata": {
        "id": "OGqSzODMRxa0"
      }
    },
    {
      "cell_type": "code",
      "source": [
        "!pip install mpi4py"
      ],
      "metadata": {
        "colab": {
          "base_uri": "https://localhost:8080/"
        },
        "id": "JBbcIhUghUma",
        "outputId": "6055a955-2667-4c86-f7f0-739b5cd59dfe"
      },
      "execution_count": 1,
      "outputs": [
        {
          "output_type": "stream",
          "name": "stdout",
          "text": [
            "Looking in indexes: https://pypi.org/simple, https://us-python.pkg.dev/colab-wheels/public/simple/\n",
            "Collecting mpi4py\n",
            "  Downloading mpi4py-3.1.4.tar.gz (2.5 MB)\n",
            "\u001b[K     |████████████████████████████████| 2.5 MB 24.6 MB/s \n",
            "\u001b[?25h  Installing build dependencies ... \u001b[?25l\u001b[?25hdone\n",
            "  Getting requirements to build wheel ... \u001b[?25l\u001b[?25hdone\n",
            "    Preparing wheel metadata ... \u001b[?25l\u001b[?25hdone\n",
            "Building wheels for collected packages: mpi4py\n",
            "  Building wheel for mpi4py (PEP 517) ... \u001b[?25l\u001b[?25hdone\n",
            "  Created wheel for mpi4py: filename=mpi4py-3.1.4-cp37-cp37m-linux_x86_64.whl size=2185774 sha256=27c03568d06a7b4cb518f262a4be76f389a96ab131b0f04a599e3f107c264d66\n",
            "  Stored in directory: /root/.cache/pip/wheels/99/54/29/187b5768bbb7beeab6753bc30acf56f35bc8ca9c214a31e173\n",
            "Successfully built mpi4py\n",
            "Installing collected packages: mpi4py\n",
            "Successfully installed mpi4py-3.1.4\n"
          ]
        }
      ]
    },
    {
      "cell_type": "markdown",
      "source": [
        "# A seguir, temos a aplicação do primeiro conjunto (bcast/reduce)"
      ],
      "metadata": {
        "id": "6HCpExcCS9iz"
      }
    },
    {
      "cell_type": "code",
      "execution_count": null,
      "metadata": {
        "colab": {
          "base_uri": "https://localhost:8080/"
        },
        "id": "Wwi8pbIfhMhq",
        "outputId": "09e15857-617f-4be4-eddf-53ed7d7ac345"
      },
      "outputs": [
        {
          "output_type": "stream",
          "name": "stdout",
          "text": [
            "Writing bcastreduce.py\n"
          ]
        }
      ],
      "source": [
        "%%writefile bcastreduce.py\n",
        "\n",
        "import numpy as np\n",
        "import platform\n",
        "import sys\n",
        "from mpi4py import MPI\n",
        "\n",
        "comm = MPI.COMM_WORLD\n",
        "id = comm.Get_rank()\n",
        "size = comm.Get_size()\n",
        "\n",
        "# Encontra os numeros primos entre 2 e k \n",
        "# Inicializando k\n",
        "k = 20\n",
        "# Define a lista de primos entre 2 e k\n",
        "S_k = []\n",
        "# Define uma lista para guardar os numeros que nao sao primos entre 2 e k\n",
        "not_prime = []\n",
        "# Define uma lista de primos entre k e k**2\n",
        "S_k2 = []\n",
        "\n",
        "# Conta o numero de primos de 2 até k\n",
        "for i in range(2, k+1):\n",
        "    if i not in not_prime:\n",
        "        S_k.append(i)\n",
        "        for j in range(i*i, k+1, i):\n",
        "            not_prime.append(j)\n",
        "\n",
        "# Encontra o numero de primos entre k e k**2 por paralelização do loop\n",
        "b=(k**2-k)/size\n",
        "for n in range(int(k+(id)*b),int(k+(id+1)*b)):\n",
        "    counter = 0\n",
        "    for i in range(len(S_k)):\n",
        "        if (n % S_k[i]) == 0:\n",
        "            break\n",
        "        else:\n",
        "            counter = counter + 1\n",
        "    if (counter==len(S_k)):\n",
        "        S_k2.append(n)\n",
        "\n",
        "# Avalia a quantidade de primos nas duas listas\n",
        "processor_num_primes = len(S_k2)\n",
        "original_num_primes = len(S_k)\n",
        "\n",
        "# Faz o broadcast da quantidade de primos e calcula as uniões de conjuntos de inteiros.\n",
        "countb = 0\n",
        "totalb = 0\n",
        "for i in range(0, size):\n",
        "    countb = comm.bcast(S_k2, i)\n",
        "    totalb = totalb + len(countb)\n",
        "total = comm.reduce(totalb, MPI.BOR,0)\n",
        "\n",
        "if (id == 0):\n",
        "    print (\"Numero total de processos: \", size)\n",
        "print (\"Processo \", id + 1, \"esta calculando:\", S_k2)\n",
        "print (\"Processo \", id + 1, \"esta calculando esta quantidade de primos:\", processor_num_primes)\n",
        "print(\"Processo \", id + 1, \"tem o seguinte intervalo:\", (int(k + (id) * b), int(k + (id + 1) * b)))\n",
        "if (id == 0):\n",
        "    print(\"Total de numeros primos encontrados no intervalo entre\", 2, \"e\", k * k, \"foi de:\", total + original_num_primes)\n",
        "print('')"
      ]
    },
    {
      "cell_type": "markdown",
      "source": [
        "# A partir daqui, temos a execução do código com 1, 2, 4 e 8 processos, bem como a aplicação do timeit para verificar o tempo de execução de cada um."
      ],
      "metadata": {
        "id": "NnHlfrk8TI4V"
      }
    },
    {
      "cell_type": "code",
      "source": [
        "import timeit"
      ],
      "metadata": {
        "id": "oiMNDvafjR8g"
      },
      "execution_count": null,
      "outputs": []
    },
    {
      "cell_type": "code",
      "source": [
        "%%timeit -n 1 -r 1\n",
        "!mpirun --allow-run-as-root -np 1 python ./bcastreduce.py"
      ],
      "metadata": {
        "colab": {
          "base_uri": "https://localhost:8080/"
        },
        "id": "G3JX2BqzhPUN",
        "outputId": "40aa9dd8-856d-4c1b-b38a-151436a3cbb6"
      },
      "execution_count": null,
      "outputs": [
        {
          "output_type": "stream",
          "name": "stdout",
          "text": [
            "Numero total de processos:  1\n",
            "Processo  1 esta calculando: [23, 29, 31, 37, 41, 43, 47, 53, 59, 61, 67, 71, 73, 79, 83, 89, 97, 101, 103, 107, 109, 113, 127, 131, 137, 139, 149, 151, 157, 163, 167, 173, 179, 181, 191, 193, 197, 199, 211, 223, 227, 229, 233, 239, 241, 251, 257, 263, 269, 271, 277, 281, 283, 293, 307, 311, 313, 317, 331, 337, 347, 349, 353, 359, 367, 373, 379, 383, 389, 397]\n",
            "Processo  1 esta calculando esta quantidade de primos: 70\n",
            "Processo  1 tem o seguinte intervalo: (20, 400)\n",
            "Total de numeros primos encontrados no intervalo entre 2 e 400 foi de: 78\n",
            "\n",
            "417 ms ± 0 ns per loop (mean ± std. dev. of 1 run, 1 loop each)\n"
          ]
        }
      ]
    },
    {
      "cell_type": "code",
      "source": [
        "%%timeit -n 2 -r 1\n",
        "!mpirun --allow-run-as-root -np 2 python ./bcastreduce.py"
      ],
      "metadata": {
        "colab": {
          "base_uri": "https://localhost:8080/"
        },
        "id": "8MnM6092hPjt",
        "outputId": "a5b41064-714f-443c-9903-69b5a222d574"
      },
      "execution_count": null,
      "outputs": [
        {
          "output_type": "stream",
          "name": "stdout",
          "text": [
            "Numero total de processos:  2\n",
            "Processo  2 esta calculando: [211, 223, 227, 229, 233, 239, 241, 251, 257, 263, 269, 271, 277, 281, 283, 293, 307, 311, 313, 317, 331, 337, 347, 349, 353, 359, 367, 373, 379, 383, 389, 397]\n",
            "Processo  2 esta calculando esta quantidade de primos: 32\n",
            "Processo  2 tem o seguinte intervalo: (210, 400)\n",
            "\n",
            "Processo  1 esta calculando: [23, 29, 31, 37, 41, 43, 47, 53, 59, 61, 67, 71, 73, 79, 83, 89, 97, 101, 103, 107, 109, 113, 127, 131, 137, 139, 149, 151, 157, 163, 167, 173, 179, 181, 191, 193, 197, 199]\n",
            "Processo  1 esta calculando esta quantidade de primos: 38\n",
            "Processo  1 tem o seguinte intervalo: (20, 210)\n",
            "Total de numeros primos encontrados no intervalo entre 2 e 400 foi de: 78\n",
            "\n",
            "Numero total de processos:  2\n",
            "Processo  2 esta calculando: [211, 223, 227, 229, 233, 239, 241, 251, 257, 263, 269, 271, 277, 281, 283, 293, 307, 311, 313, 317, 331, 337, 347, 349, 353, 359, 367, 373, 379, 383, 389, 397]\n",
            "Processo  2 esta calculando esta quantidade de primos: 32\n",
            "Processo  1 esta calculando: [23, 29, 31, 37, 41, 43, 47, 53, 59, 61, 67, 71, 73, 79, 83, 89, 97, 101, 103, 107, 109, 113, 127, 131, 137, 139, 149, 151, 157, 163, 167, 173, 179, 181, 191, 193, 197, 199]\n",
            "Processo  1 esta calculando esta quantidade de primos: 38\n",
            "Processo  1 tem o seguinte intervalo: (20, 210)\n",
            "Total de numeros primos encontrados no intervalo entre 2 e 400 foi de: 78\n",
            "\n",
            "Processo  2 tem o seguinte intervalo: (210, 400)\n",
            "\n",
            "620 ms ± 0 ns per loop (mean ± std. dev. of 1 run, 2 loops each)\n"
          ]
        }
      ]
    },
    {
      "cell_type": "code",
      "source": [
        "%%timeit -n 4 -r 1\n",
        "!mpirun --allow-run-as-root -np 4 python ./bcastreduce.py"
      ],
      "metadata": {
        "colab": {
          "base_uri": "https://localhost:8080/"
        },
        "id": "KJPle5o-hP2_",
        "outputId": "70fe1fff-0334-40e4-dcdd-d4efa5bd1a8d"
      },
      "execution_count": null,
      "outputs": [
        {
          "output_type": "stream",
          "name": "stdout",
          "text": [
            "Processo  4 esta calculando: [307, 311, 313, 317, 331, 337, 347, 349, 353, 359, 367, 373, 379, 383, 389, 397]\n",
            "Processo  4 esta calculando esta quantidade de primos: 16\n",
            "Processo  4 tem o seguinte intervalo: (305, 400)\n",
            "\n",
            "Processo  2 esta calculando: [127, 131, 137, 139, 149, 151, 157, 163, 167, 173, 179, 181, 191, 193, 197, 199]\n",
            "Processo  2 esta calculando esta quantidade de primos: 16\n",
            "Processo  2 tem o seguinte intervalo: (115, 210)\n",
            "\n",
            "Numero total de processos:  4\n",
            "Processo  1 esta calculando: [23, 29, 31, 37, 41, 43, 47, 53, 59, 61, 67, 71, 73, 79, 83, 89, 97, 101, 103, 107, 109, 113]\n",
            "Processo  1 esta calculando esta quantidade de primos: 22\n",
            "Processo  3 esta calculando: [211, 223, 227, 229, 233, 239, 241, 251, 257, 263, 269, 271, 277, 281, 283, 293]\n",
            "Processo  1 tem o seguinte intervalo: (20, 115)\n",
            "Total de numeros primos encontrados no intervalo entre 2 e 400 foi de: 78\n",
            "\n",
            "Processo  3 esta calculando esta quantidade de primos: 16\n",
            "Processo  3 tem o seguinte intervalo: (210, 305)\n",
            "\n",
            "Processo  3 esta calculando: [211, 223, 227, 229, 233, 239, 241, 251, 257, 263, 269, 271, 277, 281, 283, 293]\n",
            "Processo  4 esta calculando: [307, 311, 313, 317, 331, 337, 347, 349, 353, 359, 367, 373, 379, 383, 389, 397]\n",
            "Processo  4 esta calculando esta quantidade de primos: 16\n",
            "Processo  4 tem o seguinte intervalo: (305, 400)\n",
            "\n",
            "Processo  2 esta calculando: [127, 131, 137, 139, 149, 151, 157, 163, 167, 173, 179, 181, 191, 193, 197, 199]\n",
            "Processo  2 esta calculando esta quantidade de primos: 16\n",
            "Processo  3 esta calculando esta quantidade de primos: 16\n",
            "Processo  2 tem o seguinte intervalo: (115, 210)\n",
            "Processo  3 tem o seguinte intervalo: (210, 305)\n",
            "\n",
            "\n",
            "Numero total de processos:  4\n",
            "Processo  1 esta calculando: [23, 29, 31, 37, 41, 43, 47, 53, 59, 61, 67, 71, 73, 79, 83, 89, 97, 101, 103, 107, 109, 113]\n",
            "Processo  1 esta calculando esta quantidade de primos: 22\n",
            "Processo  1 tem o seguinte intervalo: (20, 115)\n",
            "Total de numeros primos encontrados no intervalo entre 2 e 400 foi de: 78\n",
            "\n",
            "Processo  4 esta calculando: [307, 311, 313, 317, 331, 337, 347, 349, 353, 359, 367, 373, 379, 383, 389, 397]\n",
            "Processo  3 esta calculando: [211, 223, 227, 229, 233, 239, 241, 251, 257, 263, 269, 271, 277, 281, 283, 293]\n",
            "Processo  3 esta calculando esta quantidade de primos: 16\n",
            "Processo  3 tem o seguinte intervalo: (210, 305)\n",
            "\n",
            "Processo  2 esta calculando: [127, 131, 137, 139, 149, 151, 157, 163, 167, 173, 179, 181, 191, 193, 197, 199]\n",
            "Processo  2 esta calculando esta quantidade de primos: 16\n",
            "Processo  4 esta calculando esta quantidade de primos: 16\n",
            "Processo  2 tem o seguinte intervalo: (115, 210)\n",
            "\n",
            "Processo  4 tem o seguinte intervalo: (305, 400)\n",
            "\n",
            "Numero total de processos:  4\n",
            "Processo  1 esta calculando: [23, 29, 31, 37, 41, 43, 47, 53, 59, 61, 67, 71, 73, 79, 83, 89, 97, 101, 103, 107, 109, 113]\n",
            "Processo  1 esta calculando esta quantidade de primos: 22\n",
            "Processo  1 tem o seguinte intervalo: (20, 115)\n",
            "Total de numeros primos encontrados no intervalo entre 2 e 400 foi de: 78\n",
            "\n",
            "Processo  2 esta calculando: [127, 131, 137, 139, 149, 151, 157, 163, 167, 173, 179, 181, 191, 193, 197, 199]\n",
            "Processo  2 esta calculando esta quantidade de primos: 16\n",
            "Processo  2 tem o seguinte intervalo: (115, 210)\n",
            "Processo  4 esta calculando: [307, 311, 313, 317, 331, 337, 347, 349, 353, 359, 367, 373, 379, 383, 389, 397]\n",
            "Processo  4 esta calculando esta quantidade de primos: 16\n",
            "\n",
            "Processo  4 tem o seguinte intervalo: (305, 400)\n",
            "\n",
            "Processo  3 esta calculando: [211, 223, 227, 229, 233, 239, 241, 251, 257, 263, 269, 271, 277, 281, 283, 293]\n",
            "Processo  3 esta calculando esta quantidade de primos: 16\n",
            "Numero total de processos:  4\n",
            "Processo  1 esta calculando: [23, 29, 31, 37, 41, 43, 47, 53, 59, 61, 67, 71, 73, 79, 83, 89, 97, 101, 103, 107, 109, 113]\n",
            "Processo  1 esta calculando esta quantidade de primos: 22\n",
            "Processo  1 tem o seguinte intervalo: (20, 115)\n",
            "Total de numeros primos encontrados no intervalo entre 2 e 400 foi de: 78\n",
            "\n",
            "Processo  3 tem o seguinte intervalo: (210, 305)\n",
            "\n",
            "1.32 s ± 0 ns per loop (mean ± std. dev. of 1 run, 4 loops each)\n"
          ]
        }
      ]
    },
    {
      "cell_type": "code",
      "source": [
        "%%timeit -n 8 -r 1\n",
        "!mpirun --allow-run-as-root -np 8 python ./bcastreduce.py"
      ],
      "metadata": {
        "colab": {
          "base_uri": "https://localhost:8080/"
        },
        "id": "vxG7lUEahQbc",
        "outputId": "af2579c4-3f60-4e3a-d1b4-f4caa9481ce5"
      },
      "execution_count": null,
      "outputs": [
        {
          "output_type": "stream",
          "name": "stdout",
          "text": [
            "Processo  4 esta calculando: [163, 167, 173, 179, 181, 191, 193, 197, 199]\n",
            "Processo  8 esta calculando: [353, 359, 367, 373, 379, 383, 389, 397]\n",
            "Processo  6 esta calculando: [257, 263, 269, 271, 277, 281, 283, 293]\n",
            "Processo  7 esta calculando: [307, 311, 313, 317, 331, 337, 347, 349]\n",
            "Processo  7 esta calculando esta quantidade de primos: 8\n",
            "Processo  7 tem o seguinte intervalo: (305, 352)\n",
            "\n",
            "Processo  6 esta calculando esta quantidade de primos: 8\n",
            "Processo  6 tem o seguinte intervalo: (257, 305)\n",
            "\n",
            "Processo  3 esta calculando: [127, 131, 137, 139, 149, 151, 157]\n",
            "Processo  2 esta calculando: [67, 71, 73, 79, 83, 89, 97, 101, 103, 107, 109, 113]\n",
            "Processo  2 esta calculando esta quantidade de primos: 12\n",
            "Processo  3 esta calculando esta quantidade de primos: 7\n",
            "Processo  4 esta calculando esta quantidade de primos: 9\n",
            "Processo  2 tem o seguinte intervalo: (67, 115)\n",
            "Processo  3 tem o seguinte intervalo: (115, 162)\n",
            "Processo  4 tem o seguinte intervalo: (162, 210)\n",
            "\n",
            "\n",
            "Processo  8 esta calculando esta quantidade de primos: 8\n",
            "Processo  8 tem o seguinte intervalo: (352, 400)\n",
            "\n",
            "\n",
            "Processo  5 esta calculando: [211, 223, 227, 229, 233, 239, 241, 251]\n",
            "Processo  5 esta calculando esta quantidade de primos: 8\n",
            "Processo  5 tem o seguinte intervalo: (210, 257)\n",
            "\n",
            "Numero total de processos:  8\n",
            "Processo  1 esta calculando: [23, 29, 31, 37, 41, 43, 47, 53, 59, 61]\n",
            "Processo  1 esta calculando esta quantidade de primos: 10\n",
            "Processo  1 tem o seguinte intervalo: (20, 67)\n",
            "Total de numeros primos encontrados no intervalo entre 2 e 400 foi de: 78\n",
            "\n",
            "Processo  8 esta calculando: [353, 359, 367, 373, 379, 383, 389, 397]\n",
            "Processo  8 esta calculando esta quantidade de primos: 8\n",
            "Processo  8 tem o seguinte intervalo: (352, 400)\n",
            "\n",
            "Processo  6 esta calculando: [257, 263, 269, 271, 277, 281, 283, 293]\n",
            "Processo  6 esta calculando esta quantidade de primos: 8\n",
            "Processo  6 tem o seguinte intervalo: (257, 305)\n",
            "\n",
            "Processo  2 esta calculando: [67, 71, 73, 79, 83, 89, 97, 101, 103, 107, 109, 113]\n",
            "Processo  2 esta calculando esta quantidade de primos: 12\n",
            "Processo  2 tem o seguinte intervalo: (67, 115)\n",
            "\n",
            "Processo  4 esta calculando: [163, 167, 173, 179, 181, 191, 193, 197, 199]\n",
            "Processo  4 esta calculando esta quantidade de primos: 9\n",
            "Processo  4 tem o seguinte intervalo: (162, 210)\n",
            "\n",
            "Processo  7 esta calculando: [307, 311, 313, 317, 331, 337, 347, 349]\n",
            "Processo  7 esta calculando esta quantidade de primos: 8\n",
            "Processo  7 tem o seguinte intervalo: (305, 352)\n",
            "\n",
            "Processo  3 esta calculando: [127, 131, 137, 139, 149, 151, 157]\n",
            "Processo  3 esta calculando esta quantidade de primos: 7\n",
            "Processo  3 tem o seguinte intervalo: (115, 162)\n",
            "\n",
            "Processo  5 esta calculando: [211, 223, 227, 229, 233, 239, 241, 251]\n",
            "Processo  5 esta calculando esta quantidade de primos: 8\n",
            "Processo  5 tem o seguinte intervalo: (210, 257)\n",
            "\n",
            "Numero total de processos:  8\n",
            "Processo  1 esta calculando: [23, 29, 31, 37, 41, 43, 47, 53, 59, 61]\n",
            "Processo  1 esta calculando esta quantidade de primos: 10\n",
            "Processo  1 tem o seguinte intervalo: (20, 67)\n",
            "Total de numeros primos encontrados no intervalo entre 2 e 400 foi de: 78\n",
            "\n",
            "Processo  8 esta calculando: [353, 359, 367, 373, 379, 383, 389, 397]\n",
            "Processo  7 esta calculando: [307, 311, 313, 317, 331, 337, 347, 349]\n",
            "Processo  3 esta calculando: [127, 131, 137, 139, 149, 151, 157]\n",
            "Processo  5 esta calculando: [211, 223, 227, 229, 233, 239, 241, 251]\n",
            "Numero total de processos:  8\n",
            "Processo  6 esta calculando: [257, 263, 269, 271, 277, 281, 283, 293]\n",
            "Processo  1 esta calculando: [23, 29, 31, 37, 41, 43, 47, 53, 59, 61]\n",
            "Processo  4 esta calculando: [163, 167, 173, 179, 181, 191, 193, 197, 199]\n",
            "Processo  3 esta calculando esta quantidade de primos: 7\n",
            "Processo  4 esta calculando esta quantidade de primos: 9\n",
            "Processo  1 esta calculando esta quantidade de primos: 10\n",
            "Processo  5 esta calculando esta quantidade de primos: 8\n",
            "Processo  6 esta calculando esta quantidade de primos: 8\n",
            "Processo  6 tem o seguinte intervalo: (257, 305)\n",
            "Processo  7 esta calculando esta quantidade de primos: 8\n",
            "Processo  1 tem o seguinte intervalo: (20, 67)\n",
            "Processo  5 tem o seguinte intervalo: (210, 257)\n",
            "Processo  4 tem o seguinte intervalo: (162, 210)\n",
            "Processo  3 tem o seguinte intervalo: (115, 162)\n",
            "Processo  7 tem o seguinte intervalo: (305, 352)\n",
            "\n",
            "\n",
            "\n",
            "\n",
            "Total de numeros primos encontrados no intervalo entre 2 e 400 foi de: 78\n",
            "\n",
            "\n",
            "Processo  2 esta calculando: [67, 71, 73, 79, 83, 89, 97, 101, 103, 107, 109, 113]\n",
            "Processo  2 esta calculando esta quantidade de primos: 12\n",
            "Processo  2 tem o seguinte intervalo: (67, 115)\n",
            "Processo  8 esta calculando esta quantidade de primos: 8\n",
            "\n",
            "Processo  8 tem o seguinte intervalo: (352, 400)\n",
            "\n",
            "Processo  8 esta calculando: [353, 359, 367, 373, 379, 383, 389, 397]\n",
            "Processo  7 esta calculando: [307, 311, 313, 317, 331, 337, 347, 349]\n",
            "Processo  7 esta calculando esta quantidade de primos: 8\n",
            "Processo  7 tem o seguinte intervalo: (305, 352)\n",
            "\n",
            "Processo  5 esta calculando: [211, 223, 227, 229, 233, 239, 241, 251]\n",
            "Processo  5 esta calculando esta quantidade de primos: 8\n",
            "Processo  5 tem o seguinte intervalo: (210, 257)\n",
            "\n",
            "Numero total de processos:  8\n",
            "Processo  1 esta calculando: [23, 29, 31, 37, 41, 43, 47, 53, 59, 61]\n",
            "Processo  1 esta calculando esta quantidade de primos: 10\n",
            "Processo  1 tem o seguinte intervalo: (20, 67)\n",
            "Total de numeros primos encontrados no intervalo entre 2 e 400 foi de: 78\n",
            "\n",
            "Processo  6 esta calculando: [257, 263, 269, 271, 277, 281, 283, 293]\n",
            "Processo  6 esta calculando esta quantidade de primos: 8\n",
            "Processo  6 tem o seguinte intervalo: (257, 305)\n",
            "Processo  8 esta calculando esta quantidade de primos: 8\n",
            "\n",
            "Processo  8 tem o seguinte intervalo: (352, 400)\n",
            "\n",
            "Processo  4 esta calculando: [163, 167, 173, 179, 181, 191, 193, 197, 199]\n",
            "Processo  4 esta calculando esta quantidade de primos: 9\n",
            "Processo  4 tem o seguinte intervalo: (162, 210)\n",
            "\n",
            "Processo  2 esta calculando: [67, 71, 73, 79, 83, 89, 97, 101, 103, 107, 109, 113]\n",
            "Processo  3 esta calculando: [127, 131, 137, 139, 149, 151, 157]\n",
            "Processo  3 esta calculando esta quantidade de primos: 7\n",
            "Processo  3 tem o seguinte intervalo: (115, 162)\n",
            "\n",
            "Processo  2 esta calculando esta quantidade de primos: 12\n",
            "Processo  2 tem o seguinte intervalo: (67, 115)\n",
            "\n",
            "Processo  7 esta calculando: [307, 311, 313, 317, 331, 337, 347, 349]\n",
            "Processo  7 esta calculando esta quantidade de primos: 8\n",
            "Processo  7 tem o seguinte intervalo: (305, 352)\n",
            "\n",
            "Processo  8 esta calculando: [353, 359, 367, 373, 379, 383, 389, 397]\n",
            "Processo  4 esta calculando: [163, 167, 173, 179, 181, 191, 193, 197, 199]\n",
            "Processo  3 esta calculando: [127, 131, 137, 139, 149, 151, 157]\n",
            "Processo  4 esta calculando esta quantidade de primos: 9\n",
            "Processo  3 esta calculando esta quantidade de primos: 7\n",
            "Processo  3 tem o seguinte intervalo: (115, 162)\n",
            "Processo  4 tem o seguinte intervalo: (162, 210)\n",
            "\n",
            "\n",
            "Processo  6 esta calculando: [257, 263, 269, 271, 277, 281, 283, 293]\n",
            "Processo  6 esta calculando esta quantidade de primos: 8\n",
            "Processo  6 tem o seguinte intervalo: (257, 305)\n",
            "\n",
            "Processo  8 esta calculando esta quantidade de primos: 8\n",
            "Processo  8 tem o seguinte intervalo: (352, 400)\n",
            "\n",
            "Processo  5 esta calculando: [211, 223, 227, 229, 233, 239, 241, 251]\n",
            "Processo  5 esta calculando esta quantidade de primos: 8\n",
            "Processo  5 tem o seguinte intervalo: (210, 257)\n",
            "\n",
            "Numero total de processos:  8\n",
            "Processo  2 esta calculando: [67, 71, 73, 79, 83, 89, 97, 101, 103, 107, 109, 113]\n",
            "Processo  2 esta calculando esta quantidade de primos: 12\n",
            "Processo  2 tem o seguinte intervalo: (67, 115)\n",
            "\n",
            "Processo  1 esta calculando: [23, 29, 31, 37, 41, 43, 47, 53, 59, 61]\n",
            "Processo  1 esta calculando esta quantidade de primos: 10\n",
            "Processo  1 tem o seguinte intervalo: (20, 67)\n",
            "Total de numeros primos encontrados no intervalo entre 2 e 400 foi de: 78\n",
            "\n",
            "Processo  6 esta calculando: [257, 263, 269, 271, 277, 281, 283, 293]\n",
            "Processo  8 esta calculando: [353, 359, 367, 373, 379, 383, 389, 397]\n",
            "Processo  7 esta calculando: [307, 311, 313, 317, 331, 337, 347, 349]\n",
            "Processo  7 esta calculando esta quantidade de primos: 8\n",
            "Processo  7 tem o seguinte intervalo: (305, 352)\n",
            "Processo  2 esta calculando: [67, 71, 73, 79, 83, 89, 97, 101, 103, 107, 109, 113]\n",
            "Processo  2 esta calculando esta quantidade de primos: 12\n",
            "Processo  2 tem o seguinte intervalo: (67, 115)\n",
            "\n",
            "\n",
            "Processo  5 esta calculando: [211, 223, 227, 229, 233, 239, 241, 251]\n",
            "Processo  8 esta calculando esta quantidade de primos: 8\n",
            "Processo  3 esta calculando: [127, 131, 137, 139, 149, 151, 157]\n",
            "Processo  8 tem o seguinte intervalo: (352, 400)\n",
            "\n",
            "Processo  3 esta calculando esta quantidade de primos: 7\n",
            "Processo  6 esta calculando esta quantidade de primos: 8\n",
            "Processo  5 esta calculando esta quantidade de primos: 8\n",
            "Processo  3 tem o seguinte intervalo: (115, 162)\n",
            "Processo  5 tem o seguinte intervalo: (210, 257)\n",
            "Processo  6 tem o seguinte intervalo: (257, 305)\n",
            "\n",
            "\n",
            "\n",
            "Numero total de processos:  8\n",
            "Processo  1 esta calculando: [23, 29, 31, 37, 41, 43, 47, 53, 59, 61]\n",
            "Processo  4 esta calculando: [163, 167, 173, 179, 181, 191, 193, 197, 199]\n",
            "Processo  4 esta calculando esta quantidade de primos: 9\n",
            "Processo  4 tem o seguinte intervalo: (162, 210)\n",
            "\n",
            "Processo  1 esta calculando esta quantidade de primos: 10\n",
            "Processo  1 tem o seguinte intervalo: (20, 67)\n",
            "Total de numeros primos encontrados no intervalo entre 2 e 400 foi de: 78\n",
            "\n",
            "Processo  4 esta calculando: [163, 167, 173, 179, 181, 191, 193, 197, 199]\n",
            "Processo  8 esta calculando: [353, 359, 367, 373, 379, 383, 389, 397]\n",
            "Processo  8 esta calculando esta quantidade de primos: 8\n",
            "Processo  8 tem o seguinte intervalo: (352, 400)\n",
            "\n",
            "Processo  4 esta calculando esta quantidade de primos: 9\n",
            "Processo  4 tem o seguinte intervalo: (162, 210)\n",
            "\n",
            "Processo  6 esta calculando: [257, 263, 269, 271, 277, 281, 283, 293]\n",
            "Processo  6 esta calculando esta quantidade de primos: 8\n",
            "Processo  6 tem o seguinte intervalo: (257, 305)\n",
            "\n",
            "Processo  2 esta calculando: [67, 71, 73, 79, 83, 89, 97, 101, 103, 107, 109, 113]\n",
            "Processo  2 esta calculando esta quantidade de primos: 12\n",
            "Processo  2 tem o seguinte intervalo: (67, 115)\n",
            "\n",
            "Processo  7 esta calculando: [307, 311, 313, 317, 331, 337, 347, 349]\n",
            "Processo  3 esta calculando: [127, 131, 137, 139, 149, 151, 157]\n",
            "Processo  3 esta calculando esta quantidade de primos: 7\n",
            "Processo  3 tem o seguinte intervalo: (115, 162)\n",
            "\n",
            "Processo  7 esta calculando esta quantidade de primos: 8\n",
            "Processo  7 tem o seguinte intervalo: (305, 352)\n",
            "\n",
            "Processo  5 esta calculando: [211, 223, 227, 229, 233, 239, 241, 251]\n",
            "Processo  5 esta calculando esta quantidade de primos: 8\n",
            "Processo  5 tem o seguinte intervalo: (210, 257)\n",
            "\n",
            "Numero total de processos:  8\n",
            "Processo  1 esta calculando: [23, 29, 31, 37, 41, 43, 47, 53, 59, 61]\n",
            "Processo  1 esta calculando esta quantidade de primos: 10\n",
            "Processo  1 tem o seguinte intervalo: (20, 67)\n",
            "Total de numeros primos encontrados no intervalo entre 2 e 400 foi de: 78\n",
            "\n",
            "Processo  8 esta calculando: [353, 359, 367, 373, 379, 383, 389, 397]\n",
            "Processo  8 esta calculando esta quantidade de primos: 8\n",
            "Processo  8 tem o seguinte intervalo: (352, 400)\n",
            "\n",
            "Processo  4 esta calculando: [163, 167, 173, 179, 181, 191, 193, 197, 199]\n",
            "Processo  4 esta calculando esta quantidade de primos: 9\n",
            "Processo  4 tem o seguinte intervalo: (162, 210)\n",
            "\n",
            "Processo  7 esta calculando: [307, 311, 313, 317, 331, 337, 347, 349]\n",
            "Processo  7 esta calculando esta quantidade de primos: 8\n",
            "Processo  7 tem o seguinte intervalo: (305, 352)\n",
            "\n",
            "Processo  3 esta calculando: [127, 131, 137, 139, 149, 151, 157]\n",
            "Processo  3 esta calculando esta quantidade de primos: 7\n",
            "Processo  3 tem o seguinte intervalo: (115, 162)\n",
            "\n",
            "Processo  6 esta calculando: [257, 263, 269, 271, 277, 281, 283, 293]\n",
            "Processo  5 esta calculando: [211, 223, 227, 229, 233, 239, 241, 251]\n",
            "Processo  5 esta calculando esta quantidade de primos: 8\n",
            "Processo  5 tem o seguinte intervalo: (210, 257)\n",
            "\n",
            "Processo  6 esta calculando esta quantidade de primos: 8\n",
            "Processo  6 tem o seguinte intervalo: (257, 305)\n",
            "\n",
            "Processo  2 esta calculando: [67, 71, 73, 79, 83, 89, 97, 101, 103, 107, 109, 113]\n",
            "Processo  2 esta calculando esta quantidade de primos: 12\n",
            "Processo  2 tem o seguinte intervalo: (67, 115)\n",
            "\n",
            "Numero total de processos:  8\n",
            "Processo  1 esta calculando: [23, 29, 31, 37, 41, 43, 47, 53, 59, 61]\n",
            "Processo  1 esta calculando esta quantidade de primos: 10\n",
            "Processo  1 tem o seguinte intervalo: (20, 67)\n",
            "Total de numeros primos encontrados no intervalo entre 2 e 400 foi de: 78\n",
            "\n",
            "1.79 s ± 0 ns per loop (mean ± std. dev. of 1 run, 8 loops each)\n"
          ]
        }
      ]
    },
    {
      "cell_type": "markdown",
      "source": [
        "# A seguir, temos a aplicação do segundo conjunto (send/recv)"
      ],
      "metadata": {
        "id": "gH-LP3qGVfJX"
      }
    },
    {
      "cell_type": "code",
      "source": [
        "%%writefile sendrecv.py\n",
        "\n",
        "import numpy as np\n",
        "import platform\n",
        "import sys\n",
        "from mpi4py import MPI\n",
        "\n",
        "comm = MPI.COMM_WORLD\n",
        "id = comm.Get_rank()\n",
        "size = comm.Get_size()\n",
        "\n",
        "# Encontra os numeros primos entre 2 e k \n",
        "# Inicializando k\n",
        "k = 20\n",
        "# Define a lista de primos entre 2 e k\n",
        "S_k = []\n",
        "# Define uma lista para guardar os numeros que nao sao primos entre 2 e k\n",
        "not_prime = []\n",
        "# Define uma lista de primos entre k e k**2\n",
        "S_k2 = []\n",
        "\n",
        "# Conta o numero de primos de 2 até k\n",
        "for i in range(2, k+1):\n",
        "    if i not in not_prime:\n",
        "        S_k.append(i)\n",
        "        for j in range(i*i, k+1, i):\n",
        "            not_prime.append(j)\n",
        "\n",
        "# Encontra o numero de primos entre k e k**2 por paralelização do loop\n",
        "b=(k**2-k)/size\n",
        "for n in range(int(k+(id)*b),int(k+(id+1)*b)):\n",
        "    counter = 0\n",
        "    for i in range(len(S_k)):\n",
        "        if (n % S_k[i]) == 0:\n",
        "            break\n",
        "        else:\n",
        "            counter = counter + 1\n",
        "    if (counter==len(S_k)):\n",
        "        S_k2.append(n)\n",
        "\n",
        "# Avalia a quantidade de primos nas duas listas\n",
        "processor_num_primes = len(S_k2)\n",
        "original_num_primes = len(S_k)\n",
        "\n",
        "# Faz o broadcast da quantidade de primos e calcula as uniões de conjuntos de inteiros.\n",
        "total = S_k2\n",
        "\n",
        "if id == 1:\n",
        "  total = S_k2\n",
        "  comm.send(total, dest = 1, tag = 10)\n",
        "elif id == 1:\n",
        "  total = comm.recv(source = 0, tag = 10)\n",
        "\n",
        "if (id == 0):\n",
        "    print (\"Numero total de processos: \", size)\n",
        "print (\"Processo \", id + 1, \"esta calculando:\", S_k2)\n",
        "print (\"Processo \", id + 1, \"esta calculando esta quantidade de primos:\", processor_num_primes)\n",
        "print(\"Processo \", id + 1, \"tem o seguinte intervalo:\", (int(k + (id) * b), int(k + (id + 1) * b)))\n",
        "#print(\"Total de numeros primos encontrados no intervalo entre\", 2, \"e\", k * k, \"foi de:\", S_k + total)\n",
        "#if (id == 1):\n",
        "#    print(\"Total de numeros primos encontrados no intervalo entre\", 2, \"e\", k * k, \"foi de:\", len(S_k) + len(total) )\n",
        "#print('')"
      ],
      "metadata": {
        "colab": {
          "base_uri": "https://localhost:8080/"
        },
        "id": "zZmcIDjRVlx4",
        "outputId": "16d6f2cf-b419-4274-eff5-413f6e1dd18b"
      },
      "execution_count": 254,
      "outputs": [
        {
          "output_type": "stream",
          "name": "stdout",
          "text": [
            "Overwriting sendrecv.py\n"
          ]
        }
      ]
    },
    {
      "cell_type": "code",
      "source": [
        "%%timeit -n 1 -r 1\n",
        "!mpirun --allow-run-as-root -np 1 python ./sendrecv.py"
      ],
      "metadata": {
        "id": "tYwluUgVWBRJ",
        "colab": {
          "base_uri": "https://localhost:8080/"
        },
        "outputId": "08bdbb57-508e-437c-8f8d-224afe99cc01"
      },
      "execution_count": 257,
      "outputs": [
        {
          "output_type": "stream",
          "name": "stdout",
          "text": [
            "Numero total de processos:  1\n",
            "Processo  1 esta calculando: [23, 29, 31, 37, 41, 43, 47, 53, 59, 61, 67, 71, 73, 79, 83, 89, 97, 101, 103, 107, 109, 113, 127, 131, 137, 139, 149, 151, 157, 163, 167, 173, 179, 181, 191, 193, 197, 199, 211, 223, 227, 229, 233, 239, 241, 251, 257, 263, 269, 271, 277, 281, 283, 293, 307, 311, 313, 317, 331, 337, 347, 349, 353, 359, 367, 373, 379, 383, 389, 397]\n",
            "Processo  1 esta calculando esta quantidade de primos: 70\n",
            "Processo  1 tem o seguinte intervalo: (20, 400)\n",
            "4.58 s ± 0 ns per loop (mean ± std. dev. of 1 run, 1 loop each)\n"
          ]
        }
      ]
    },
    {
      "cell_type": "code",
      "source": [
        "%%timeit -n 1 -r 1\n",
        "!mpirun --allow-run-as-root -np 2 python ./sendrecv.py"
      ],
      "metadata": {
        "colab": {
          "base_uri": "https://localhost:8080/"
        },
        "id": "e2b0HgOYnrzH",
        "outputId": "68741de1-3785-4f62-94a0-4189a999e35e"
      },
      "execution_count": 258,
      "outputs": [
        {
          "output_type": "stream",
          "name": "stdout",
          "text": [
            "Processo  2 esta calculando: [211, 223, 227, 229, 233, 239, 241, 251, 257, 263, 269, 271, 277, 281, 283, 293, 307, 311, 313, 317, 331, 337, 347, 349, 353, 359, 367, 373, 379, 383, 389, 397]\n",
            "Processo  2 esta calculando esta quantidade de primos: 32\n",
            "Processo  2 tem o seguinte intervalo: (210, 400)\n",
            "Numero total de processos:  2\n",
            "Processo  1 esta calculando: [23, 29, 31, 37, 41, 43, 47, 53, 59, 61, 67, 71, 73, 79, 83, 89, 97, 101, 103, 107, 109, 113, 127, 131, 137, 139, 149, 151, 157, 163, 167, 173, 179, 181, 191, 193, 197, 199]\n",
            "Processo  1 esta calculando esta quantidade de primos: 38\n",
            "Processo  1 tem o seguinte intervalo: (20, 210)\n",
            "4.56 s ± 0 ns per loop (mean ± std. dev. of 1 run, 1 loop each)\n"
          ]
        }
      ]
    },
    {
      "cell_type": "code",
      "source": [
        "%%timeit -n 1 -r 1\n",
        "!mpirun --allow-run-as-root -np 4 python ./sendrecv.py"
      ],
      "metadata": {
        "colab": {
          "base_uri": "https://localhost:8080/"
        },
        "id": "0sas27zgnuoL",
        "outputId": "44d9ed4b-8c32-40c6-c8ba-7d5f398fe966"
      },
      "execution_count": 259,
      "outputs": [
        {
          "output_type": "stream",
          "name": "stdout",
          "text": [
            "Processo  3 esta calculando: [211, 223, 227, 229, 233, 239, 241, 251, 257, 263, 269, 271, 277, 281, 283, 293]\n",
            "Processo  3 esta calculando esta quantidade de primos: 16\n",
            "Processo  3 tem o seguinte intervalo: (210, 305)\n",
            "Processo  2 esta calculando: [127, 131, 137, 139, 149, 151, 157, 163, 167, 173, 179, 181, 191, 193, 197, 199]\n",
            "Processo  4 esta calculando: [307, 311, 313, 317, 331, 337, 347, 349, 353, 359, 367, 373, 379, 383, 389, 397]\n",
            "Processo  2 esta calculando esta quantidade de primos: 16\n",
            "Processo  2 tem o seguinte intervalo: (115, 210)\n",
            "Processo  4 esta calculando esta quantidade de primos: 16\n",
            "Processo  4 tem o seguinte intervalo: (305, 400)\n",
            "Numero total de processos:  4\n",
            "Processo  1 esta calculando: [23, 29, 31, 37, 41, 43, 47, 53, 59, 61, 67, 71, 73, 79, 83, 89, 97, 101, 103, 107, 109, 113]\n",
            "Processo  1 esta calculando esta quantidade de primos: 22\n",
            "Processo  1 tem o seguinte intervalo: (20, 115)\n",
            "7.38 s ± 0 ns per loop (mean ± std. dev. of 1 run, 1 loop each)\n"
          ]
        }
      ]
    },
    {
      "cell_type": "code",
      "source": [
        "%%timeit -n 1 -r 1\n",
        "!mpirun --allow-run-as-root -np 8 python ./sendrecv.py"
      ],
      "metadata": {
        "colab": {
          "base_uri": "https://localhost:8080/"
        },
        "id": "8a0FMw1Cny8p",
        "outputId": "cb090118-4e27-40e8-ae23-58109c3cb629"
      },
      "execution_count": 261,
      "outputs": [
        {
          "output_type": "stream",
          "name": "stdout",
          "text": [
            "Processo  4 esta calculando: [163, 167, 173, 179, 181, 191, 193, 197, 199]\n",
            "Processo  4 esta calculando esta quantidade de primos: 9\n",
            "Processo  4 tem o seguinte intervalo: (162, 210)\n",
            "Processo  6 esta calculando: [257, 263, 269, 271, 277, 281, 283, 293]\n",
            "Processo  6 esta calculando esta quantidade de primos: 8\n",
            "Processo  2 esta calculando: [67, 71, 73, 79, 83, 89, 97, 101, 103, 107, 109, 113]\n",
            "Processo  2 esta calculando esta quantidade de primos: 12\n",
            "Processo  2 tem o seguinte intervalo: (67, 115)\n",
            "Processo  3 esta calculando: [127, 131, 137, 139, 149, 151, 157]\n",
            "Processo  3 esta calculando esta quantidade de primos: 7\n",
            "Processo  3 tem o seguinte intervalo: (115, 162)\n",
            "Numero total de processos:  8\n",
            "Processo  1 esta calculando: [23, 29, 31, 37, 41, 43, 47, 53, 59, 61]\n",
            "Processo  1 esta calculando esta quantidade de primos: 10\n",
            "Processo  1 tem o seguinte intervalo: (20, 67)\n",
            "Processo  5 esta calculando: [211, 223, 227, 229, 233, 239, 241, 251]\n",
            "Processo  5 esta calculando esta quantidade de primos: 8\n",
            "Processo  5 tem o seguinte intervalo: (210, 257)\n",
            "Processo  6 tem o seguinte intervalo: (257, 305)\n",
            "Processo  7 esta calculando: [307, 311, 313, 317, 331, 337, 347, 349]\n",
            "Processo  8 esta calculando: [353, 359, 367, 373, 379, 383, 389, 397]\n",
            "Processo  7 esta calculando esta quantidade de primos: 8\n",
            "Processo  8 esta calculando esta quantidade de primos: 8\n",
            "Processo  7 tem o seguinte intervalo: (305, 352)\n",
            "Processo  8 tem o seguinte intervalo: (352, 400)\n",
            "12.9 s ± 0 ns per loop (mean ± std. dev. of 1 run, 1 loop each)\n"
          ]
        }
      ]
    },
    {
      "cell_type": "markdown",
      "source": [
        "#***CONCLUSÃO***\n",
        "\n",
        "# Analisando a execução de ambos os conjuntos (bcast/reduce & send/recev) neste algoritmo, que encontra a quantidade de números primos em um intervalo de 2 a k, e o tempo de execução de cada loop, podemos observar que o tempo de execução aumenta conforme aumentamos a quantidade de processos. Porém, conforme dividimos os números a cada processo, eles deveriam otimizar o tempo.\n",
        "# Isso deve ocorrer pelo fato do broadcast transmitir a informação para mais processos a cada vez. Parte do aumento de tempo de execução também pode vir do próprio colab, algo parecido com o que ocorreu durante a AC1."
      ],
      "metadata": {
        "id": "O1YzqBe2kc3X"
      }
    }
  ]
}